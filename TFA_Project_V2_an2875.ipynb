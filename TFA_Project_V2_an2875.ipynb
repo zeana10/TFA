{
 "cells": [
  {
   "cell_type": "code",
   "execution_count": 1,
   "metadata": {},
   "outputs": [],
   "source": [
    "from sklearn.linear_model import RidgeClassifier, LogisticRegression\n",
    "from sklearn.ensemble import RandomForestClassifier\n",
    "from sklearn.preprocessing import LabelEncoder\n",
    "from sklearn.model_selection import train_test_split, GridSearchCV\n",
    "from sklearn import model_selection, preprocessing, linear_model, naive_bayes, metrics, svm\n",
    "from sklearn.feature_extraction.text import TfidfVectorizer, CountVectorizer\n",
    "from sklearn import decomposition, ensemble\n",
    "import xgboost, string\n",
    "import pandas as pd\n",
    "import numpy as np"
   ]
  },
  {
   "cell_type": "code",
   "execution_count": 2,
   "metadata": {},
   "outputs": [
    {
     "data": {
      "text/plain": [
       "3"
      ]
     },
     "execution_count": 2,
     "metadata": {},
     "output_type": "execute_result"
    }
   ],
   "source": [
    "import multiprocessing\n",
    "n_jobs_cnt = multiprocessing.cpu_count()-1\n",
    "n_jobs_cnt"
   ]
  },
  {
   "cell_type": "code",
   "execution_count": 3,
   "metadata": {},
   "outputs": [],
   "source": [
    "#importing review text and label files to dataframe\n",
    "\n",
    "import pandas as pd\n",
    "\n",
    "df_test_text = pd.read_table('imdb_test_text.txt', delim_whitespace=False, names=('A'))\n",
    "df_test_labels = pd.read_table('imdb_test_labels.txt', delim_whitespace=False, names=('B'))"
   ]
  },
  {
   "cell_type": "code",
   "execution_count": 4,
   "metadata": {},
   "outputs": [
    {
     "data": {
      "text/plain": [
       "(25000, 2)"
      ]
     },
     "execution_count": 4,
     "metadata": {},
     "output_type": "execute_result"
    }
   ],
   "source": [
    "#merging them on index\n",
    "df_test=df_test_text.join(df_test_labels, how='outer')\n",
    "df_test.shape"
   ]
  },
  {
   "cell_type": "code",
   "execution_count": 5,
   "metadata": {},
   "outputs": [],
   "source": [
    "df_train_text = pd.read_table('imdb_train_text.txt', delim_whitespace=False, names=('A'))\n",
    "df_train_labels = pd.read_table('imdb_train_labels.txt', delim_whitespace=False, names=('B'))"
   ]
  },
  {
   "cell_type": "code",
   "execution_count": 6,
   "metadata": {},
   "outputs": [],
   "source": [
    "#merging them on index\n",
    "df_train=df_train_text.join(df_train_labels, how='outer')"
   ]
  },
  {
   "cell_type": "code",
   "execution_count": 56,
   "metadata": {
    "scrolled": true
   },
   "outputs": [],
   "source": [
    "# #changing column name\n",
    "df_train=df_train.rename(columns={'A':'review_text',\n",
    "                          'B':'review_label'})\n",
    "df_train.index.name='S.No.'\n",
    "df_train"
   ]
  },
  {
   "cell_type": "code",
   "execution_count": 57,
   "metadata": {},
   "outputs": [],
   "source": [
    "#changing column name\n",
    "df_test=df_test.rename(columns={'A':'review_text','B':'review_label'})\n",
    "df_test.index.name='S.No.'\n",
    "df_test"
   ]
  },
  {
   "cell_type": "code",
   "execution_count": 9,
   "metadata": {},
   "outputs": [
    {
     "data": {
      "text/plain": [
       "(25000, 2)"
      ]
     },
     "execution_count": 9,
     "metadata": {},
     "output_type": "execute_result"
    }
   ],
   "source": [
    "df_train.shape"
   ]
  },
  {
   "cell_type": "code",
   "execution_count": 11,
   "metadata": {},
   "outputs": [
    {
     "data": {
      "text/plain": [
       "(50000, 3)"
      ]
     },
     "execution_count": 11,
     "metadata": {},
     "output_type": "execute_result"
    }
   ],
   "source": [
    "df_all = pd.concat(objs=[df_train,\n",
    "                         df_test],\n",
    "                   axis=0)\n",
    "df_all.reset_index(inplace=True)\n",
    "df_all.shape"
   ]
  },
  {
   "cell_type": "code",
   "execution_count": 13,
   "metadata": {},
   "outputs": [],
   "source": [
    "df_all.drop(labels=['S.No.'],\n",
    "            inplace=True,\n",
    "            axis=1)\n"
   ]
  },
  {
   "cell_type": "code",
   "execution_count": 14,
   "metadata": {},
   "outputs": [
    {
     "data": {
      "text/plain": [
       "((40000,), (10000,), (40000,), (10000,))"
      ]
     },
     "execution_count": 14,
     "metadata": {},
     "output_type": "execute_result"
    }
   ],
   "source": [
    "X_train, X_test, y_train, y_test = train_test_split(df_all['review_text'],\n",
    "                                                    df_all['review_label'],\n",
    "                                                    test_size=0.2,\n",
    "                                                    random_state=42)\n",
    "X_train.shape, X_test.shape, y_train.shape, y_test.shape"
   ]
  },
  {
   "cell_type": "code",
   "execution_count": 17,
   "metadata": {},
   "outputs": [
    {
     "data": {
      "text/plain": [
       "((40000,), (10000,))"
      ]
     },
     "execution_count": 17,
     "metadata": {},
     "output_type": "execute_result"
    }
   ],
   "source": [
    "# label encode the target variable\n",
    "#mention a random split\n",
    "encoder = LabelEncoder()\n",
    "y_train_en = encoder.fit_transform(y_train)\n",
    "y_test_en = encoder.transform(y_test)\n",
    "\n",
    "y_train_en.shape, y_test_en.shape"
   ]
  },
  {
   "cell_type": "code",
   "execution_count": null,
   "metadata": {},
   "outputs": [],
   "source": [
    "y_test_en = pd.Series(y_test_en)\n",
    "y_train_en = pd.Series(y_train_en)"
   ]
  },
  {
   "cell_type": "code",
   "execution_count": 65,
   "metadata": {},
   "outputs": [
    {
     "name": "stdout",
     "output_type": "stream",
     "text": [
      "RF, Count Vectors for max features= 0.01 min_df= 1000 : 0.3194\n",
      "RF, Count Vectors for max features= 0.02 min_df= 1000 : 0.3232\n",
      "RF, Count Vectors for max features= 0.03 min_df= 1000 : 0.3177\n",
      "RF, Count Vectors for max features= 0.04 min_df= 1000 : 0.2956\n",
      "RF, Count Vectors for max features= 0.05 min_df= 1000 : 0.3017\n",
      "RF, Count Vectors for max features= 0.060000000000000005 min_df= 1000 : 0.2764\n",
      "RF, Count Vectors for max features= 0.07 min_df= 1000 : 0.2797\n",
      "RF, Count Vectors for max features= 0.01 min_df= 1500 : 0.3232\n",
      "RF, Count Vectors for max features= 0.02 min_df= 1500 : 0.3167\n",
      "RF, Count Vectors for max features= 0.03 min_df= 1500 : 0.3097\n",
      "RF, Count Vectors for max features= 0.04 min_df= 1500 : 0.3086\n",
      "RF, Count Vectors for max features= 0.05 min_df= 1500 : 0.2976\n",
      "RF, Count Vectors for max features= 0.060000000000000005 min_df= 1500 : 0.2913\n",
      "RF, Count Vectors for max features= 0.07 min_df= 1500 : 0.2883\n",
      "RF, Count Vectors for max features= 0.01 min_df= 2000 : 0.3163\n",
      "RF, Count Vectors for max features= 0.02 min_df= 2000 : 0.3267\n",
      "RF, Count Vectors for max features= 0.03 min_df= 2000 : 0.3273\n",
      "RF, Count Vectors for max features= 0.04 min_df= 2000 : 0.3022\n",
      "RF, Count Vectors for max features= 0.05 min_df= 2000 : 0.3001\n",
      "RF, Count Vectors for max features= 0.060000000000000005 min_df= 2000 : 0.286\n",
      "RF, Count Vectors for max features= 0.07 min_df= 2000 : 0.2781\n",
      "RF, Count Vectors for max features= 0.01 min_df= 2500 : 0.3183\n",
      "RF, Count Vectors for max features= 0.02 min_df= 2500 : 0.3224\n",
      "RF, Count Vectors for max features= 0.03 min_df= 2500 : 0.3181\n",
      "RF, Count Vectors for max features= 0.04 min_df= 2500 : 0.3036\n",
      "RF, Count Vectors for max features= 0.05 min_df= 2500 : 0.2926\n",
      "RF, Count Vectors for max features= 0.060000000000000005 min_df= 2500 : 0.2814\n",
      "RF, Count Vectors for max features= 0.07 min_df= 2500 : 0.2872\n",
      "RF, Count Vectors for max features= 0.01 min_df= 3000 : 0.3211\n",
      "RF, Count Vectors for max features= 0.02 min_df= 3000 : 0.3181\n",
      "RF, Count Vectors for max features= 0.03 min_df= 3000 : 0.3157\n",
      "RF, Count Vectors for max features= 0.04 min_df= 3000 : 0.3047\n",
      "RF, Count Vectors for max features= 0.05 min_df= 3000 : 0.2976\n",
      "RF, Count Vectors for max features= 0.060000000000000005 min_df= 3000 : 0.2786\n",
      "RF, Count Vectors for max features= 0.07 min_df= 3000 : 0.283\n",
      "RF, Count Vectors for max features= 0.01 min_df= 3500 : 0.3269\n",
      "RF, Count Vectors for max features= 0.02 min_df= 3500 : 0.3245\n",
      "RF, Count Vectors for max features= 0.03 min_df= 3500 : 0.3263\n",
      "RF, Count Vectors for max features= 0.04 min_df= 3500 : 0.3076\n",
      "RF, Count Vectors for max features= 0.05 min_df= 3500 : 0.3019\n",
      "RF, Count Vectors for max features= 0.060000000000000005 min_df= 3500 : 0.2887\n",
      "RF, Count Vectors for max features= 0.07 min_df= 3500 : 0.2795\n",
      "RF, Count Vectors for max features= 0.01 min_df= 4000 : 0.3258\n",
      "RF, Count Vectors for max features= 0.02 min_df= 4000 : 0.3247\n",
      "RF, Count Vectors for max features= 0.03 min_df= 4000 : 0.321\n",
      "RF, Count Vectors for max features= 0.04 min_df= 4000 : 0.3031\n",
      "RF, Count Vectors for max features= 0.05 min_df= 4000 : 0.3001\n",
      "RF, Count Vectors for max features= 0.060000000000000005 min_df= 4000 : 0.2876\n",
      "RF, Count Vectors for max features= 0.07 min_df= 4000 : 0.2826\n"
     ]
    }
   ],
   "source": [
    "j=1000\n",
    "while j<4001:\n",
    "    i=0.01\n",
    "    while i < 0.08:\n",
    "        tfidf_vect = TfidfVectorizer(analyzer='word', token_pattern=r'\\w{1,}', max_features=j, min_df=i, max_df=0.95)\n",
    "        # # transform the training and validation data using count vectorizer object\n",
    "        X_train_tfidf = tfidf_vect.fit_transform(X_train)\n",
    "        X_test_tfidf = tfidf_vect.transform(X_test)\n",
    "\n",
    "        accuracy = train_model(ensemble.RandomForestClassifier(), X_train_tfidf, y_train_en, X_test_tfidf)\n",
    "        print(\"RF, Count Vectors for max features=\",i,\"min_df=\",j,\":\",accuracy)\n",
    "        i=i+0.01\n",
    "    j=j+500"
   ]
  },
  {
   "cell_type": "code",
   "execution_count": 47,
   "metadata": {},
   "outputs": [],
   "source": [
    "def train_model(classifier, feature_vector_train, label, feature_vector_valid, is_neural_net=False):\n",
    "    # fit the training dataset on the classifier\n",
    "    classifier.fit(feature_vector_train, label)\n",
    "    \n",
    "    # predict the labels on validation dataset\n",
    "    predictions = classifier.predict(feature_vector_valid)\n",
    "    \n",
    "    if is_neural_net:\n",
    "        predictions = predictions.argmax(axis=-1)\n",
    "    \n",
    "    return metrics.accuracy_score(predictions, y_test_en)"
   ]
  }
 ],
 "metadata": {
  "kernelspec": {
   "display_name": "Python 3",
   "language": "python",
   "name": "python3"
  },
  "language_info": {
   "codemirror_mode": {
    "name": "ipython",
    "version": 3
   },
   "file_extension": ".py",
   "mimetype": "text/x-python",
   "name": "python",
   "nbconvert_exporter": "python",
   "pygments_lexer": "ipython3",
   "version": "3.6.5"
  }
 },
 "nbformat": 4,
 "nbformat_minor": 2
}
